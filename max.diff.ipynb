{
 "cells": [
  {
   "cell_type": "code",
   "execution_count": 3,
   "metadata": {},
   "outputs": [],
   "source": [
    "num= int(input('Enter Numbers'))\n",
    "num= {num}\n",
    "def max_diff(num):\n",
    "    n= range(num)\n",
    "    max=0\n",
    "    for i in range(n-1,1):\n",
    "      for j in range(n,i+1):\n",
    "        if  abs((num[i]- num[j])) >0:\n",
    "            max=abs((num[i]- num[j]))"
   ]
  }
 ],
 "metadata": {
  "interpreter": {
   "hash": "df96c57c84e5db49fbff7a65f65f854912c05f9edc8c4379a37af6dde7acaa39"
  },
  "kernelspec": {
   "display_name": "Python 3.9.7 64-bit (windows store)",
   "name": "python3"
  },
  "language_info": {
   "codemirror_mode": {
    "name": "ipython",
    "version": 3
   },
   "file_extension": ".py",
   "mimetype": "text/x-python",
   "name": "python",
   "nbconvert_exporter": "python",
   "pygments_lexer": "ipython3",
   "version": "3.9.9"
  },
  "orig_nbformat": 4
 },
 "nbformat": 4,
 "nbformat_minor": 2
}
